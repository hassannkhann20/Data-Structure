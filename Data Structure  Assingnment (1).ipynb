{
 "cells": [
  {
   "cell_type": "raw",
   "id": "3180ad98-0247-4f85-afd4-e4e70c85cdd6",
   "metadata": {},
   "source": [
    "Q1. What are data structures, and why are they important?\n",
    "Answer:\n",
    "\n",
    "Data structures are specialized formats used to organize, manage, and store data in a computer so that it can be accessed and modified efficiently.\n",
    "\n",
    "They are important because:\n",
    "\n",
    "They allow efficient data retrieval and storage.\n",
    "\n",
    "Different problems require different structures (e.g., lists, trees, graphs, queues).\n",
    "\n",
    "They help improve performance and scalability of algorithms.\n",
    "\n",
    "They provide a way to organize complex data logically and hierarchically.\n",
    "\n",
    "For example, using a dictionary to store key-value pairs allows for fast lookups compared to a list."
   ]
  },
  {
   "cell_type": "raw",
   "id": "925593f5-3420-48f3-a4cb-fd18ebbbcfde",
   "metadata": {},
   "source": [
    "Q2. Explain the difference between mutable and immutable data types with examples.\n",
    "Answer:\n",
    "\n",
    "Mutable data types are types whose values can be changed after creation.\n",
    "\n",
    "Immutable data types cannot be changed once they are created."
   ]
  },
  {
   "cell_type": "raw",
   "id": "1e17ca16-a619-4246-ba45-9e7ca8b8da61",
   "metadata": {},
   "source": [
    "Q3. What are the main differences between lists and tuples in Python?\n",
    "Answer:\n",
    "\n",
    "Feature\tList\tTuple\n",
    "Mutability\tMutable (can be changed)\tImmutable (cannot be changed)\n",
    "Syntax\tDefined using []\tDefined using ()\n",
    "Performance\tSlightly slower\tFaster due to immutability\n",
    "Use Case\tWhen data can change\tWhen data should remain constant\n",
    "Methods\tHas many built-in methods (e.g., append(), remove())\tFewer built-in methods"
   ]
  },
  {
   "cell_type": "code",
   "execution_count": 3,
   "id": "7650dd29-7fdd-4bb5-b56c-d79b3d2cfecb",
   "metadata": {},
   "outputs": [
    {
     "name": "stdout",
     "output_type": "stream",
     "text": [
      "hassan\n"
     ]
    }
   ],
   "source": [
    "\"\"\"Q4. Describe how dictionaries store data.\n",
    "Answer:\n",
    "\n",
    "Dictionaries in Python store data as key-value pairs. Each key is unique and is used to access its corresponding value. \n",
    "Internally, Python uses a hash table to manage dictionaries, which allows for fast access to values using their keys.\n",
    "\n",
    "example:\"\"\"\n",
    "\n",
    "person = {\"name\": \"hassan\", \"age\": \"22\"}\n",
    "print(person[\"name\"])"
   ]
  },
  {
   "cell_type": "raw",
   "id": "7bdb4544-eabb-4f80-8ea3-5535b803d2bf",
   "metadata": {},
   "source": [
    "Q5. Why might you use a set instead of a list in Python?\n",
    "Answer:\n",
    "\n",
    "You might use a set instead of a list when:\n",
    "\n",
    "You want to store only unique elements. Sets automatically remove duplicates.\n",
    "\n",
    "You need fast membership testing. Checking if an item exists in a set is faster than in a list.\n",
    "\n",
    "You want to perform set operations, like union, intersection, and difference. "
   ]
  },
  {
   "cell_type": "code",
   "execution_count": 7,
   "id": "89e62ad6-f0f2-46a8-a4f7-51c485d8a399",
   "metadata": {},
   "outputs": [
    {
     "name": "stdout",
     "output_type": "stream",
     "text": [
      "['H', 'e', 'l', 'l', 'o']\n"
     ]
    }
   ],
   "source": [
    "\n",
    "\"\"\"Q6. What is a string in Python, and how is it different from a list?\n",
    "Answer:\n",
    "\n",
    "A string in Python is a sequence of characters, enclosed in single or double quotes (e.g., \"hello\" or 'world'). It is immutable, meaning once created, it cannot be changed.\n",
    "\n",
    "A list is a sequence of items (which can be of any data type), and it is mutable, meaning its elements can be changed.\n",
    "\n",
    "Key Differences:\n",
    "\n",
    "Strings can only hold characters, while lists can hold any type of data.\n",
    "\n",
    "You can modify list elements, but not characters in a string.\n",
    "\n",
    "Example:\"\"\"\n",
    "\n",
    "my_string = \"hello\"\n",
    "my_list = ['h', 'e', 'l', 'l', 'o']\n",
    "\n",
    "# Trying to modify string (will cause error)\n",
    "# my_string[0] = 'H'  # Error\n",
    "\n",
    "# Modifying list\n",
    "my_list[0] = 'H'\n",
    "print(my_list)  # Output: ['H', 'e', 'l', 'l', 'o']\n"
   ]
  },
  {
   "cell_type": "code",
   "execution_count": 6,
   "id": "39eb47fa-f8ff-4979-a70a-98ae2a917d87",
   "metadata": {},
   "outputs": [],
   "source": [
    "\"\"\"Q7. How do tuples ensure data integrity in Python?\n",
    "Answer:\n",
    "\n",
    "Tuples ensure data integrity by being immutable, which means once a tuple is created, its elements cannot be changed,\n",
    "added, or removed. This protects the data from accidental modification, especially in situations where data must remain constant throughout the program.\n",
    "\n",
    "Example:\"\"\"\n",
    "\n",
    "credentials = (\"username\", \"password123\")\n",
    "\n"
   ]
  },
  {
   "cell_type": "code",
   "execution_count": 8,
   "id": "afdb9cbf-6433-4c04-9dcb-1c6a702b6c9d",
   "metadata": {},
   "outputs": [
    {
     "name": "stdout",
     "output_type": "stream",
     "text": [
      "22\n"
     ]
    }
   ],
   "source": [
    "\"\"\"Q8. What is a hash table, and how does it relate to dictionaries in Python?\n",
    "Answer\n",
    "\n",
    "A hash table is a data structure that stores data using a key-value mapping. It uses a hash function to convert keys into unique indexes in an array,\n",
    "allowing for fast data access.\n",
    "\n",
    "In Python, a dictionary is implemented using a hash table. Each key in a dictionary is hashed to determine where its value will be stored in memory.\n",
    "This makes lookups, insertions, and deletions very fast on average.\n",
    "Example:\"\"\"\n",
    "student = {\"name\": \"hassan\", 'age': 22}\n",
    "print(student['age'])  # Accesses value quickly using hash of 'age'\n",
    "\n"
   ]
  },
  {
   "cell_type": "code",
   "execution_count": 9,
   "id": "dab2f38a-061b-44a4-90d2-5d6a3232f80e",
   "metadata": {},
   "outputs": [
    {
     "data": {
      "text/plain": [
       "[1, 'hello', 3.14, True]"
      ]
     },
     "execution_count": 9,
     "metadata": {},
     "output_type": "execute_result"
    }
   ],
   "source": [
    "\"\"\"Q9.Can lists contain different data types in Python?\n",
    "Answer:\n",
    "Yes, Python lists are dynamic and can store elements of multiple data types.\n",
    "Example:\"\"\"\n",
    "mixed_list = [1, \"hello\", 3.14, True]\n",
    "mixed_list"
   ]
  },
  {
   "cell_type": "raw",
   "id": "40b4570e-953c-43a2-a448-5b3f12e17791",
   "metadata": {},
   "source": [
    "Q10. Explain why strings are immutable in Python.\n",
    "Answer:\n",
    "Strings are immutable to enhance performance and security. Each time a string is modified, a new string is created in memory. This design choice improves memory management and allows strings to be safely used in data structures like sets or dictionary keys."
   ]
  },
  {
   "cell_type": "code",
   "execution_count": 10,
   "id": "bd3243f1-8bca-4598-a364-8e09b6e25ed3",
   "metadata": {},
   "outputs": [
    {
     "name": "stdout",
     "output_type": "stream",
     "text": [
      "hassan\n"
     ]
    }
   ],
   "source": [
    "\"\"\"Q11. What advantages do dictionaries offer over lists for certain tasks?\n",
    "Answer:\n",
    "Dictionaries provide key-based access, making them ideal for tasks where data is identified by a unique name or label. They support faster lookups (O(1) time) compared to lists, which require searching by index or value (O(n) time).\n",
    "Example:\"\"\"\n",
    "# Dictionary\n",
    "person = {\"name\": \"hassan\", \"age\": 22}\n",
    "print(person[\"name\"])  # Quick access by key\n"
   ]
  },
  {
   "cell_type": "code",
   "execution_count": null,
   "id": "95c94381-adf1-49a3-9edc-c244e68d8733",
   "metadata": {},
   "outputs": [],
   "source": [
    "\"\"\"Q12. Describe a scenario where using a tuple would be preferable over a list.\n",
    "Answer:\n",
    "Tuples should be used when the data should not change. For instance, if you're storing the coordinates of a location, using a tuple makes sense:\"\"\""
   ]
  },
  {
   "cell_type": "code",
   "execution_count": 12,
   "id": "93a9eb00-2254-4f45-8ac1-13d179a6897e",
   "metadata": {},
   "outputs": [
    {
     "data": {
      "text/plain": [
       "{1, 2, 3}"
      ]
     },
     "execution_count": 12,
     "metadata": {},
     "output_type": "execute_result"
    }
   ],
   "source": [
    "\"\"\"Q13. How do sets handle duplicate values in Python?\n",
    "Answer:\n",
    "Sets automatically remove duplicate values when created or when items are added. Each element must be unique, and trying to add a duplicate will be ignored.\n",
    "Example:\"\"\"\n",
    "my_set = {1, 2, 2, 3}  # Results in {1, 2, 3}\n",
    "my_set"
   ]
  },
  {
   "cell_type": "raw",
   "id": "32fb0eda-62ed-40ac-acd3-de55c1b58696",
   "metadata": {},
   "source": [
    "\"\"\"Q14. How does the “in” keyword work differently for lists and dictionaries?\n",
    "Answer:\n",
    "\n",
    "In lists, in checks whether a value exists.\n",
    "Example: 3 in [1, 2, 3] → True\n",
    "\n",
    "In dictionaries, in checks whether a key exists.\n",
    "Example: \"name\" in {\"name\": \"Bob\"} → True\"\"\""
   ]
  },
  {
   "cell_type": "raw",
   "id": "871f2bec-a5d4-4e59-bdbd-0f04832c53f7",
   "metadata": {},
   "source": [
    "\"\"\"Q15. Can you modify the elements of a tuple? Explain why or why not.\n",
    "Answer:\n",
    "No, tuples are immutable. Once created, their elements cannot be changed, added, or removed. \n",
    "This design ensures that data stored in a tuple remains constant, which is useful when passing fixed data between parts of a program\"\"\""
   ]
  },
  {
   "cell_type": "code",
   "execution_count": 16,
   "id": "d3fe0949-29b0-471a-be92-5a54d99394b2",
   "metadata": {},
   "outputs": [],
   "source": [
    "\"\"\"Q16. What is a nested dictionary, and give an example of its use case.\n",
    "Answer:\n",
    "A nested dictionary is a dictionary that contains another dictionary as a value. It is useful for representing complex data structures like student records or JSON data.\n",
    "Example:\"\"\"\n",
    "student = {\n",
    "    \"name\": \"Hassan\",\n",
    "    \"marks\": {\"math\": 90, \"science\": 85}\n",
    "}\n"
   ]
  },
  {
   "cell_type": "raw",
   "id": "714bbbeb-715e-49d2-82b4-5b5103513299",
   "metadata": {},
   "source": [
    "Q17. Describe the time complexity of accessing elements in a dictionary.\n",
    "Answer:\n",
    "Accessing elements in a dictionary has an average-case time complexity of O(1), thanks to the hash table implementation. In rare worst-case scenarios (like hash collisions), it could be O(n), but Python handles these efficiently."
   ]
  },
  {
   "cell_type": "raw",
   "id": "d24dfadc-6c4f-47ab-b442-46453711d160",
   "metadata": {},
   "source": [
    "Q18. In what situations are lists preferred over dictionaries?\n",
    "Answer:\n",
    "Lists are better when:\n",
    "\n",
    "The order of data matters\n",
    "\n",
    "Data is accessed by position (index)\n",
    "\n",
    "Duplicate values are allowed\n",
    "Example: storing a list of students' scores [80, 75, 92]."
   ]
  },
  {
   "cell_type": "raw",
   "id": "913c152e-89da-4f0b-a838-79b18bf68af4",
   "metadata": {},
   "source": [
    "Q19. Why are dictionaries considered unordered, and how does that affect data retrieval?\n",
    "Answer:\n",
    "Dictionaries were unordered before Python 3.7, meaning there was no guarantee on the order of items. Starting with Python 3.7, \n",
    "insertion order is preserved, but dictionaries still rely on key-based access, not positional indexing. \n",
    "This means you cannot rely on the position of elements during retrieval."
   ]
  },
  {
   "cell_type": "raw",
   "id": "e3247752-f1dd-4fde-a5e8-14a6e9fa8e17",
   "metadata": {},
   "source": [
    "Q20: Explain the difference between a list and a dictionary in terms of data retrieval.\n",
    "\n",
    "Answer:\n",
    "A list retrieves data using numerical indexes (e.g., list[0]), while a dictionary retrieves data using keys (e.g., dict['key']). Lists are ordered; dictionaries are key-based and allow more meaningful access. Both offer fast retrieval, but dictionaries are better when you need labeled data."
   ]
  },
  {
   "cell_type": "code",
   "execution_count": 1,
   "id": "6ce93ed3-8abf-4a99-ab4d-34096111c05c",
   "metadata": {},
   "outputs": [
    {
     "name": "stdout",
     "output_type": "stream",
     "text": [
      "Hassan\n"
     ]
    }
   ],
   "source": [
    "#Q1. Write a code to create a string with your name and print it\n",
    "#Answer:\n",
    "name = \"Hassan\"\n",
    "print(name)\n"
   ]
  },
  {
   "cell_type": "code",
   "execution_count": 2,
   "id": "d469889d-7d59-4a2a-9167-4ff939d78d00",
   "metadata": {},
   "outputs": [
    {
     "name": "stdout",
     "output_type": "stream",
     "text": [
      "11\n"
     ]
    }
   ],
   "source": [
    "#Q2. Write a code to find the length of the string \"Hello World\"\n",
    "#Answer:\n",
    "text = \"Hello World\"\n",
    "print(len(text))\n"
   ]
  },
  {
   "cell_type": "code",
   "execution_count": 3,
   "id": "e1f8f56b-a7ca-4fd1-9945-b8e68a411c2a",
   "metadata": {},
   "outputs": [
    {
     "name": "stdout",
     "output_type": "stream",
     "text": [
      "pyt\n"
     ]
    }
   ],
   "source": [
    "#Q3. Write a code to slice the first 3 characters from the string \"Python Programming\"\n",
    "#Answer:\n",
    "text = \"python programming\"\n",
    "print(text[:3])"
   ]
  },
  {
   "cell_type": "code",
   "execution_count": 5,
   "id": "c816d5c8-f4cd-40a0-813b-556a5221c16f",
   "metadata": {},
   "outputs": [
    {
     "name": "stdout",
     "output_type": "stream",
     "text": [
      "HELLO\n"
     ]
    }
   ],
   "source": [
    "#Q4. Write a code to convert the string \"hello\" to uppercase\n",
    "#Answer:\n",
    "text = \"hello\"\n",
    "print(text.upper())"
   ]
  },
  {
   "cell_type": "code",
   "execution_count": 9,
   "id": "192568bf-8f36-4b98-ae92-aff36eea6000",
   "metadata": {},
   "outputs": [
    {
     "name": "stdout",
     "output_type": "stream",
     "text": [
      "i like orenge\n"
     ]
    }
   ],
   "source": [
    "#Q5. Write a code to replace the word \"apple\" with \"orange\" in the string \"I like apple\"\n",
    "#Answer:\n",
    "text = \"i like apple\"\n",
    "print(text.replace(\"apple\", \"orenge\"))"
   ]
  },
  {
   "cell_type": "code",
   "execution_count": 10,
   "id": "2f9758ab-37a1-47e5-bd33-5d38c1929769",
   "metadata": {},
   "outputs": [
    {
     "name": "stdout",
     "output_type": "stream",
     "text": [
      "[1, 2, 3, 4, 5]\n"
     ]
    }
   ],
   "source": [
    "#Q6. Write a code to create a list with numbers 1 to 5 and print it\n",
    "#Answer:\n",
    "numbers = [1, 2, 3, 4, 5]\n",
    "print(numbers)"
   ]
  },
  {
   "cell_type": "code",
   "execution_count": 11,
   "id": "c5241793-a917-492c-a097-65f7b295fb3e",
   "metadata": {},
   "outputs": [
    {
     "name": "stdout",
     "output_type": "stream",
     "text": [
      "[1, 2, 3, 4, 10]\n"
     ]
    }
   ],
   "source": [
    "#Q7. Write a code to append the number 10 to the list [1, 2, 3, 4]\n",
    "#Answer:\n",
    "numbers = [1, 2, 3, 4]\n",
    "numbers.append(10)\n",
    "print(numbers)"
   ]
  },
  {
   "cell_type": "code",
   "execution_count": 13,
   "id": "635447af-f3ca-404f-b1a3-5982d704576c",
   "metadata": {},
   "outputs": [
    {
     "name": "stdout",
     "output_type": "stream",
     "text": [
      "[1, 2, 4, 5]\n"
     ]
    }
   ],
   "source": [
    "#Q8. Write a code to remove the number 3 from the list [1, 2, 3, 4, 5]\n",
    "numbers = [1, 2, 3, 4, 5]\n",
    "numbers.remove(3)\n",
    "print(numbers)"
   ]
  },
  {
   "cell_type": "code",
   "execution_count": 18,
   "id": "e9ee0873-e29a-4c40-8286-b1275ab13844",
   "metadata": {},
   "outputs": [
    {
     "name": "stdout",
     "output_type": "stream",
     "text": [
      "b\n"
     ]
    }
   ],
   "source": [
    "#Q9. Write a code to access the second element in the list ['a', 'b', 'c', 'd']\n",
    "#Answer:\n",
    "letters = [\"a\", \"b\", \"c\", \"d\"]\n",
    "print(letters[1])\n",
    "\n"
   ]
  },
  {
   "cell_type": "code",
   "execution_count": 19,
   "id": "3770c1ff-6281-443f-8bf7-976fc7a3e39a",
   "metadata": {},
   "outputs": [
    {
     "name": "stdout",
     "output_type": "stream",
     "text": [
      "[50, 40, 30, 20, 10]\n"
     ]
    }
   ],
   "source": [
    "#Q10. Write a code to reverse the list [10, 20, 30, 40, 50]\n",
    "#Answer:\n",
    "numbers = [10, 20, 30, 40, 50]\n",
    "numbers.reverse()\n",
    "print(numbers)"
   ]
  },
  {
   "cell_type": "code",
   "execution_count": 20,
   "id": "0c0210d6-b746-4349-838b-6ecaf9b239d7",
   "metadata": {},
   "outputs": [
    {
     "name": "stdout",
     "output_type": "stream",
     "text": [
      "(100, 200, 300)\n"
     ]
    }
   ],
   "source": [
    "#Q11. Write a code to create a tuple with the elements 100, 200, 300 and print it\n",
    "#Answer:\n",
    "my_tuple = (100, 200, 300)\n",
    "print(my_tuple)"
   ]
  },
  {
   "cell_type": "code",
   "execution_count": 23,
   "id": "dd785423-2651-4563-8ba4-495cb8d898e5",
   "metadata": {},
   "outputs": [
    {
     "name": "stdout",
     "output_type": "stream",
     "text": [
      "blue\n"
     ]
    }
   ],
   "source": [
    "#Q12. Write a code to access the second-to-last element of the tuple ('red', 'green', 'blue', 'yellow')\n",
    "#Answer:\n",
    "colours = (\"red\", \"green\", \"blue\", \"yellow\")\n",
    "print(colours[-2])"
   ]
  },
  {
   "cell_type": "code",
   "execution_count": 24,
   "id": "d40f3761-ce50-40a1-9679-e8e3cf973919",
   "metadata": {},
   "outputs": [
    {
     "name": "stdout",
     "output_type": "stream",
     "text": [
      "5\n"
     ]
    }
   ],
   "source": [
    "#Q13. Write a code to find the minimum number in the tuple (10, 20, 5, 15)\n",
    "#Answer:\n",
    "numbers = (10, 20, 5, 15)\n",
    "print(min(numbers))\n"
   ]
  },
  {
   "cell_type": "code",
   "execution_count": 25,
   "id": "87f941a0-c0e3-4905-a6d4-0780b3164176",
   "metadata": {},
   "outputs": [
    {
     "name": "stdout",
     "output_type": "stream",
     "text": [
      "1\n"
     ]
    }
   ],
   "source": [
    "#Q14. Write a code to find the index of the element \"cat\" in the tuple ('dog', 'cat', 'rabbit')\n",
    "#Answer:\n",
    "animals = (\"dog\", \"cat\", \"rabbit\")\n",
    "print(animals.index(\"cat\"))"
   ]
  },
  {
   "cell_type": "code",
   "execution_count": 26,
   "id": "ced47e95-e4a4-469d-9258-9300cca92e13",
   "metadata": {},
   "outputs": [
    {
     "name": "stdout",
     "output_type": "stream",
     "text": [
      "False\n"
     ]
    }
   ],
   "source": [
    "#Q15. Write a code to create a tuple containing three different fruits and check if \"kiwi\" is in it\n",
    "#Answer:\n",
    "fruits = (\"apple\",\"banana\" \"mango\")\n",
    "print(\"kiwi\" in fruits)"
   ]
  },
  {
   "cell_type": "code",
   "execution_count": 28,
   "id": "62523d64-a393-4ca7-8889-7b7e59fbb544",
   "metadata": {},
   "outputs": [
    {
     "name": "stdout",
     "output_type": "stream",
     "text": [
      "{'c', 'b', 'a'}\n"
     ]
    }
   ],
   "source": [
    "#Q16. Write a code to create a set with the elements 'a', 'b', 'c' and print it\n",
    "#Answer:\n",
    "my_set = {'a', 'b', 'c'}\n",
    "print(my_set)\n"
   ]
  },
  {
   "cell_type": "code",
   "execution_count": 30,
   "id": "8332464e-f836-4081-b7e4-8e60db666d69",
   "metadata": {},
   "outputs": [
    {
     "name": "stdout",
     "output_type": "stream",
     "text": [
      "set()\n"
     ]
    }
   ],
   "source": [
    "#Q17. Write a code to clear all elements from the set {1, 2, 3, 4, 5}\n",
    "#Answer:\n",
    "my_set = {1, 2, 3, 4, 5}\n",
    "my_set.clear()\n",
    "print(my_set)\n"
   ]
  },
  {
   "cell_type": "code",
   "execution_count": 32,
   "id": "a6ba64a2-41fc-4e6e-92a8-4e9877849e61",
   "metadata": {},
   "outputs": [
    {
     "name": "stdout",
     "output_type": "stream",
     "text": [
      "{1, 2, 3}\n"
     ]
    }
   ],
   "source": [
    "#Q18. Write a code to remove the element 4 from the set {1, 2, 3, 4}\n",
    "#Answer\n",
    "my_set = {1, 2, 3, 4}\n",
    "my_set.remove(4)\n",
    "print(my_set)"
   ]
  },
  {
   "cell_type": "code",
   "execution_count": 33,
   "id": "cc3985fe-eefa-401a-85e7-70779c6860a3",
   "metadata": {},
   "outputs": [
    {
     "name": "stdout",
     "output_type": "stream",
     "text": [
      "{1, 2, 3, 4, 5}\n"
     ]
    }
   ],
   "source": [
    "#Q19. Write a code to find the union of two sets {1, 2, 3} and {3, 4, 5}\n",
    "#Answer:\n",
    "set1 = {1, 2, 3}\n",
    "set2 = {3, 4, 5}\n",
    "print(set1.union(set2))"
   ]
  },
  {
   "cell_type": "code",
   "execution_count": 34,
   "id": "5c3465db-e23d-4204-b292-6130c783e977",
   "metadata": {},
   "outputs": [
    {
     "name": "stdout",
     "output_type": "stream",
     "text": [
      "{2, 3}\n"
     ]
    }
   ],
   "source": [
    "#Q20. Write a code to find the intersection of two sets {1, 2, 3} and {2, 3, 4}\n",
    "#Answer:\n",
    "set1 = {1, 2, 3}\n",
    "set2 = {2, 3, 4}\n",
    "print(set1.intersection(set2))"
   ]
  },
  {
   "cell_type": "code",
   "execution_count": 35,
   "id": "d0d2acec-d450-4c7c-b76e-3874e0f42331",
   "metadata": {},
   "outputs": [
    {
     "name": "stdout",
     "output_type": "stream",
     "text": [
      "{'name': 'Hassan', 'age': 22, 'city': 'Delhi'}\n"
     ]
    }
   ],
   "source": [
    "#Q21. Write a code to create a dictionary with the keys \"name\", \"age\", and \"city\", and print it\n",
    "#Answer:\n",
    "person = {\"name\": \"Hassan\",  \"age\": 22, \"city\": \"Delhi\"}\n",
    "print(person)"
   ]
  },
  {
   "cell_type": "code",
   "execution_count": 36,
   "id": "1deb1db5-f8c9-4785-aff8-532eee1e3647",
   "metadata": {},
   "outputs": [
    {
     "name": "stdout",
     "output_type": "stream",
     "text": [
      "{'name': 'John', 'age': 25, 'country': 'USA'}\n"
     ]
    }
   ],
   "source": [
    "#Q22. Write a code to add a new key-value pair \"country\": \"USA\" to the dictionary {'name': 'John', 'age': 25}\n",
    "#Answer:\n",
    "person = {'name': 'John', 'age': 25}\n",
    "person[\"country\"] = \"USA\"\n",
    "print(person)"
   ]
  },
  {
   "cell_type": "code",
   "execution_count": 37,
   "id": "a22a707f-316d-4496-b1d1-7d9c00b11269",
   "metadata": {},
   "outputs": [
    {
     "name": "stdout",
     "output_type": "stream",
     "text": [
      "Alice\n"
     ]
    }
   ],
   "source": [
    "#Q23. Write a code to access the value associated with the key \"name\" in the dictionary {'name': 'Alice', 'age': 30}\n",
    "#Answer:\n",
    "person = {'name': 'Alice', 'age': 30}\n",
    "print(person[\"name\"])\n",
    "\n"
   ]
  },
  {
   "cell_type": "code",
   "execution_count": 38,
   "id": "b9aaf1b2-a72e-49af-9cd3-25e7601db6a4",
   "metadata": {},
   "outputs": [
    {
     "name": "stdout",
     "output_type": "stream",
     "text": [
      "{'name': 'Bob', 'city': 'New York'}\n"
     ]
    }
   ],
   "source": [
    "#Q24. Write a code to remove the key \"age\" from the dictionary {'name': 'Bob', 'age': 22, 'city': 'New York'}\n",
    "#Answer:\n",
    "person = {'name': 'Bob', 'age': 22, 'city': 'New York'}\n",
    "del person[\"age\"]\n",
    "print(person)\n"
   ]
  },
  {
   "cell_type": "code",
   "execution_count": 42,
   "id": "5c8e1db7-1aea-46a6-a67e-e7f2d9d6ac77",
   "metadata": {},
   "outputs": [
    {
     "name": "stdout",
     "output_type": "stream",
     "text": [
      "True\n"
     ]
    }
   ],
   "source": [
    "#Q25. Write a code to check if the key \"city\" exists in the dictionary {'name': 'Alice', 'city': 'Paris'}\n",
    "#Ansswer:\n",
    "person = {'name': 'Alice', 'city': 'Paris'}\n",
    "print(\"city\" in person)"
   ]
  },
  {
   "cell_type": "code",
   "execution_count": 50,
   "id": "71acdaff-b648-48f5-af79-b75560457fcc",
   "metadata": {},
   "outputs": [
    {
     "name": "stdout",
     "output_type": "stream",
     "text": [
      "[1, 2, 3]\n",
      "(4, 5, 6)\n",
      "{'a': 1, 'b': 2}\n"
     ]
    }
   ],
   "source": [
    "#Q26. Write a code to create a list, a tuple, and a dictionary, and print them all\n",
    "#Answer:\n",
    "my_list = [1, 2, 3]\n",
    "my_tuple = (4, 5, 6)\n",
    "my_dict = {\"a\": 1, \"b\": 2}\n",
    "print(my_list)\n",
    "print(my_tuple)\n",
    "print(my_dict)"
   ]
  },
  {
   "cell_type": "code",
   "execution_count": 70,
   "id": "dd959b64-63bf-40a2-acbf-cfcc9b864cda",
   "metadata": {},
   "outputs": [
    {
     "name": "stdout",
     "output_type": "stream",
     "text": [
      "[30, 35, 39, 57, 70]\n"
     ]
    }
   ],
   "source": [
    "#Q27. Write a code to create a list of 5 random numbers between 1 and 100, sort it in ascending order, and print the result\n",
    "#Answer:\n",
    "import random\n",
    "numbers = random.sample(range(1, 101),5)\n",
    "numbers.sort()\n",
    "print(numbers)"
   ]
  },
  {
   "cell_type": "code",
   "execution_count": 73,
   "id": "2b032968-7367-4b36-aeac-0ddb7e28ed37",
   "metadata": {},
   "outputs": [
    {
     "name": "stdout",
     "output_type": "stream",
     "text": [
      "date\n"
     ]
    }
   ],
   "source": [
    "#Q28. Write a code to create a list with strings and print the element at the third index\n",
    "#Answer:\n",
    "words = [\"apple\", \"banana\", \"cherry\", \"date\", \"fig\"]\n",
    "print(words[3])\n"
   ]
  },
  {
   "cell_type": "code",
   "execution_count": 78,
   "id": "87c5767a-01f4-4ecb-a03e-6d15320fada4",
   "metadata": {},
   "outputs": [
    {
     "name": "stdout",
     "output_type": "stream",
     "text": [
      "{'a': 1, 'b': 2, 'c': 3, 'd': 4}\n"
     ]
    }
   ],
   "source": [
    "#Q29. Write a code to combine two dictionaries into one and print the result\n",
    "#Answer:\n",
    "dict1 = {\"a\": 1, \"b\": 2}\n",
    "dict2 = {\"c\": 3, \"d\": 4}\n",
    "combined ={**dict1, **dict2}\n",
    "print(combined)"
   ]
  },
  {
   "cell_type": "code",
   "execution_count": 82,
   "id": "2e44f25b-b474-49da-9c82-4b3a84235b91",
   "metadata": {},
   "outputs": [
    {
     "name": "stdout",
     "output_type": "stream",
     "text": [
      "{'cherry', 'banana', 'apple'}\n"
     ]
    }
   ],
   "source": [
    "#Q30. Write a code to convert a list of strings into a set\n",
    "#Answer:\n",
    "words = [\"apple\", \"banana\", \"apple\", \"cherry\"]\n",
    "unique_words = set(words)\n",
    "print(unique_words)"
   ]
  },
  {
   "cell_type": "raw",
   "id": "e654742e-5ec0-4b18-a6b0-e09cfea2c1fc",
   "metadata": {},
   "source": []
  },
  {
   "cell_type": "code",
   "execution_count": null,
   "id": "c9271117-3632-450e-945d-0452cbea283a",
   "metadata": {},
   "outputs": [],
   "source": []
  }
 ],
 "metadata": {
  "kernelspec": {
   "display_name": "Python 3 (ipykernel)",
   "language": "python",
   "name": "python3"
  },
  "language_info": {
   "codemirror_mode": {
    "name": "ipython",
    "version": 3
   },
   "file_extension": ".py",
   "mimetype": "text/x-python",
   "name": "python",
   "nbconvert_exporter": "python",
   "pygments_lexer": "ipython3",
   "version": "3.12.7"
  }
 },
 "nbformat": 4,
 "nbformat_minor": 5
}
